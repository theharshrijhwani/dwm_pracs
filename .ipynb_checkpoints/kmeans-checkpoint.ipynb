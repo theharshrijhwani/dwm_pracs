{
 "cells": [
  {
   "cell_type": "markdown",
   "id": "8fcefd85-9bcb-48ec-81fc-a48e07850f23",
   "metadata": {},
   "source": [
    "# K-Means"
   ]
  },
  {
   "cell_type": "markdown",
   "id": "115be3b2-31ab-4a7b-8aec-b20bc1b1c857",
   "metadata": {},
   "source": [
    "## Without SKLearn"
   ]
  },
  {
   "cell_type": "code",
   "execution_count": 4,
   "id": "54400097-2a21-4c6a-a920-f0e698fb7c55",
   "metadata": {},
   "outputs": [
    {
     "ename": "SyntaxError",
     "evalue": "invalid syntax. Maybe you meant '==' or ':=' instead of '='? (1712423759.py, line 18)",
     "output_type": "error",
     "traceback": [
      "\u001b[1;36m  Cell \u001b[1;32mIn[4], line 18\u001b[1;36m\u001b[0m\n\u001b[1;33m    if __name__ = \"__main__\":\u001b[0m\n\u001b[1;37m       ^\u001b[0m\n\u001b[1;31mSyntaxError\u001b[0m\u001b[1;31m:\u001b[0m invalid syntax. Maybe you meant '==' or ':=' instead of '='?\n"
     ]
    }
   ],
   "source": [
    "import numpy as np\n",
    "import matplotlib.pyplot as plt\n",
    "import random\n",
    "%matplotlib inline\n",
    "\n",
    "def kmeans(X, k, max_iterations = 100):\n",
    "    centroids = X[np.random.choice(X.shape[0], k, replace=False)]\n",
    "    \n",
    "    for _ in range(max_iterations):\n",
    "        labels = np.argmin(np.linalg.norm(X[:, np.newaxis]-centroids, axis=2),axis=1)\n",
    "        new_centroids = np.array([X[labels==i].mean(axis=0) for i in range(k)])\n",
    "        if np.array_equal(new_centroids, centroids):\n",
    "            break\n",
    "        centroids = new_centroids\n",
    "    \n",
    "    return labels, centroids\n",
    "\n",
    "if __name__ == \"__main__\":\n",
    "    np.random.seed(0)\n",
    "    X = np.random.rand(100,2)\n",
    "    k = 3\n",
    "    labels, centroids = kemans(X,k)\n",
    "\n",
    "    plt.figsize(8,6)\n",
    "    plt.scatter(X[:,0], X[:,1],c=labels,cmap='virdis',edgecolors=k)\n",
    "    plt.scatter(centroids[:,0], centroids[:,1], marker='X', s=200, color='red', label='Centroid')\n",
    "    plt.title(\"K-Means\")\n",
    "    plt.legend()\n",
    "    plt.show()"
   ]
  },
  {
   "cell_type": "code",
   "execution_count": null,
   "id": "5f732f5a-7cd6-4d5f-adf4-15f4275f78f6",
   "metadata": {},
   "outputs": [],
   "source": []
  }
 ],
 "metadata": {
  "kernelspec": {
   "display_name": "Python 3 (ipykernel)",
   "language": "python",
   "name": "python3"
  },
  "language_info": {
   "codemirror_mode": {
    "name": "ipython",
    "version": 3
   },
   "file_extension": ".py",
   "mimetype": "text/x-python",
   "name": "python",
   "nbconvert_exporter": "python",
   "pygments_lexer": "ipython3",
   "version": "3.10.11"
  }
 },
 "nbformat": 4,
 "nbformat_minor": 5
}
